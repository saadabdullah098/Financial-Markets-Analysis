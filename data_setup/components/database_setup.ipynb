{
 "cells": [
  {
   "cell_type": "markdown",
   "id": "f4ec3b16",
   "metadata": {},
   "source": [
    "# Setting Up & Understanding the Database Setup Module"
   ]
  },
  {
   "cell_type": "markdown",
   "id": "303b34ec",
   "metadata": {},
   "source": [
    "## Setup Files\n",
    "- `schema_erd.png` contains an image of the ERD for `schema.sql`\n",
    "- `schema.sql` contains the schema script to create tables & relationships for the `financial_markets.db` database\n",
    "- `financial_markets.db` is initially empty and is populated after `schema.sql` is executed\n",
    "\n",
    "## Database Characteristics\n",
    "- Database has multiple indexes for query performance. SQLite uses a B-tree (or similar structure) that’s sorted by the indexed column(s).\n",
    "    - It can jump straight to the matching rows (like using an index in a book rather than flipping through every page).\n",
    "\n",
    "- Database also has these saved SQL views, which are essentially saved queries that behave like virtual tables (like CTEs).\n",
    "- They don’t store their own data — instead, they pull it dynamically from your underlying tables every time you query them.\n",
    "    - `asset_overview`: lists all active assets with key metrics like market cap, P/E, dividend yield, and 52-week highs/lows, sorted by market cap\n",
    "    - `latest_asset_prices`: shows the most recent price, volume, and valuation metrics for each asset\n",
    "    - `daily_returns_enhanced`: calculates daily percentage returns for each asset along with its sector and type.\n",
    "    - `sector_analysis`: aggregates sector-level stats like average P/E, beta, dividend yield, and total market cap.\n",
    "\n",
    "## Database Setup Module\n",
    "`database_setup.py` contains the `FinancialDatabase` class module which contains the following functions:\n",
    "\n",
    "1. `database_setup.setup_database()` is the main function to initialize & create the database in a variable `db` and establish a connection\n",
    "    - Alternatively `FinancialDatabase.connect()` and `FinancialDatabase.close()` are to create a connection to the database or close a connection\n",
    "    - Alternatively `db.create_database()` creates the database tables using `schema.sql`\n",
    "3. `db.insert_asset(asset_data)` inserts or updates a single asset with Alpha Vantage OVERVIEW data in **assets** table\n",
    "4. `db.insert_assets_batch(assets_list)` inserts multiple assets in batch \n",
    "5. `db.insert_daily_prices(price_data, symbol)` inserts daily price data into **daily_prices** table\n",
    "6. `db.insert_economic_indicators(indicator_data)` inserts economic indicator data in **economic_indicators** table\n",
    "7. `db.insert_insert_market_indices(index_data)` inserts market indices data in **market_indicies** table \n",
    "8. `db.insert_volatility_data(volatility_data)` inserts volatility data int **volatility_data** table\n",
    "9. `db.get_asset_symbols(asset_type)` get all asset symbols, optionally filtered by type\n",
    "10. `db.get_latest_price_date(symbol)` gets the latest date for a specific symbol \n",
    "11. `db.get_asset_overview(symbol)` get complete asset overview from the **assets** table\n",
    "12. `db.execute_query(query: str, params: tuple)` executes a SQL query with optional parameters and return results as DataFrame\n",
    "13. `db.get_data_summary()` prints a comprehensive summary of data in the database"
   ]
  },
  {
   "cell_type": "markdown",
   "id": "a288bf0c",
   "metadata": {},
   "source": [
    "## Set Up Database and Create Connection"
   ]
  },
  {
   "cell_type": "code",
   "execution_count": 1,
   "id": "a23f0037",
   "metadata": {},
   "outputs": [
    {
     "data": {
      "text/plain": [
       "'/Users/saadabdullah/Desktop/Data Science/GitHub/Financial-Markets-Analysis/database'"
      ]
     },
     "execution_count": 1,
     "metadata": {},
     "output_type": "execute_result"
    }
   ],
   "source": [
    "import os\n",
    "os.getcwd()"
   ]
  },
  {
   "cell_type": "code",
   "execution_count": 2,
   "id": "326394fb",
   "metadata": {},
   "outputs": [
    {
     "name": "stdout",
     "output_type": "stream",
     "text": [
      "Setting up Improved Financial Markets Database...\n",
      "Connected to database: financial_markets.db\n",
      "Database schema created successfully from file\n",
      "\n",
      "Database created and connection established.\n",
      "\n",
      "=== NEXT STEPS ===\n",
      "1. Use db.get_data_summary() to check your sample data\n",
      "2. Use insert_asset() to add Alpha Vantage OVERVIEW data\n",
      "3. Use insert_daily_prices() to add historical price data\n",
      "4. Use other functions to insert other types of data\n"
     ]
    }
   ],
   "source": [
    "import database.database_config as database_config\n",
    "db = database_config.setup_database()"
   ]
  },
  {
   "cell_type": "code",
   "execution_count": 3,
   "id": "e2a8c3d9",
   "metadata": {},
   "outputs": [
    {
     "name": "stdout",
     "output_type": "stream",
     "text": [
      "\n",
      "=== FINANCIAL MARKETS DATABASE SUMMARY ===\n",
      "assets: 19 records\n",
      "daily_prices: 0 records\n",
      "economic_indicators: 6 records\n",
      "sector_performance: 0 records\n",
      "market_indices: 0 records\n",
      "volatility_data: 0 records\n",
      "\n",
      "=== ASSET BREAKDOWN ===\n",
      "  ETF: 13 assets, Total Market Cap: $0.86T\n",
      "  Stock: 5 assets, Total Market Cap: $10.00T\n",
      "  Index: 1 assets, Total Market Cap: N/A\n",
      "\n",
      "=== SECTOR BREAKDOWN ===\n",
      "  Technology: 5 assets, Avg P/E: 27.4\n",
      "  Consumer Discretionary: 3 assets, Avg P/E: 44.3\n",
      "  Broad Market: 2 assets, Avg P/E: 20.4\n",
      "  Consumer Staples: 1 assets, Avg P/E: 22.5\n",
      "  Energy: 1 assets, Avg P/E: 14.2\n",
      "  Financial Services: 1 assets, Avg P/E: 12.8\n",
      "  Healthcare: 1 assets, Avg P/E: 16.8\n",
      "  Industrials: 1 assets, Avg P/E: 20.1\n",
      "  Real Estate: 1 assets, Avg P/E: 25.3\n",
      "  Small Cap: 1 assets, Avg P/E: 18.3\n"
     ]
    }
   ],
   "source": [
    "db.get_data_summary()"
   ]
  },
  {
   "cell_type": "code",
   "execution_count": null,
   "id": "1290e82f",
   "metadata": {},
   "outputs": [],
   "source": []
  }
 ],
 "metadata": {
  "kernelspec": {
   "display_name": "Python 3",
   "language": "python",
   "name": "python3"
  },
  "language_info": {
   "codemirror_mode": {
    "name": "ipython",
    "version": 3
   },
   "file_extension": ".py",
   "mimetype": "text/x-python",
   "name": "python",
   "nbconvert_exporter": "python",
   "pygments_lexer": "ipython3",
   "version": "3.9.23"
  }
 },
 "nbformat": 4,
 "nbformat_minor": 5
}
